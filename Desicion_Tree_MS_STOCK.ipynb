{
  "nbformat": 4,
  "nbformat_minor": 0,
  "metadata": {
    "colab": {
      "provenance": [],
      "authorship_tag": "ABX9TyPCPrRB5ZyslZFFcPx1vqGK",
      "include_colab_link": true
    },
    "kernelspec": {
      "name": "python3",
      "display_name": "Python 3"
    },
    "language_info": {
      "name": "python"
    }
  },
  "cells": [
    {
      "cell_type": "markdown",
      "metadata": {
        "id": "view-in-github",
        "colab_type": "text"
      },
      "source": [
        "<a href=\"https://colab.research.google.com/github/Andrew-1993/final_project_sda/blob/master/Desicion_Tree_MS_STOCK.ipynb\" target=\"_parent\"><img src=\"https://colab.research.google.com/assets/colab-badge.svg\" alt=\"Open In Colab\"/></a>"
      ]
    },
    {
      "cell_type": "code",
      "execution_count": 19,
      "metadata": {
        "id": "vqEQuRapP7jx"
      },
      "outputs": [],
      "source": [
        "import matplotlib.pyplot as plt\n",
        "import pandas as pd\n",
        "import numpy as np\n",
        "from sklearn.metrics import mean_squared_error, r2_score\n",
        "from sklearn.tree import DecisionTreeRegressor\n",
        "from sklearn.linear_model import LinearRegression"
      ]
    },
    {
      "cell_type": "code",
      "source": [
        "from google.colab import drive\n",
        "drive.mount('/content/drive')"
      ],
      "metadata": {
        "colab": {
          "base_uri": "https://localhost:8080/"
        },
        "id": "8FfSFycLQCTg",
        "outputId": "07fa2370-b960-4727-ca9b-3a441b0cb835"
      },
      "execution_count": 2,
      "outputs": [
        {
          "output_type": "stream",
          "name": "stdout",
          "text": [
            "Mounted at /content/drive\n"
          ]
        }
      ]
    },
    {
      "cell_type": "code",
      "source": [
        "df = pd.read_csv('/content/drive/My Drive/MSFT.csv', )"
      ],
      "metadata": {
        "id": "MQKP6uvNQDW4"
      },
      "execution_count": 20,
      "outputs": []
    },
    {
      "cell_type": "code",
      "source": [
        "df.reset_index(inplace=True)"
      ],
      "metadata": {
        "id": "YNOlBOlQQMIf"
      },
      "execution_count": 21,
      "outputs": []
    },
    {
      "cell_type": "code",
      "source": [
        "df2 = df['Close']"
      ],
      "metadata": {
        "id": "3ENpKKe8QMlU"
      },
      "execution_count": 22,
      "outputs": []
    },
    {
      "cell_type": "code",
      "source": [
        "df2 = pd.DataFrame(df2)     "
      ],
      "metadata": {
        "id": "EjUAROVTQOyr"
      },
      "execution_count": 23,
      "outputs": []
    },
    {
      "cell_type": "code",
      "source": [
        "future_days = 100\n",
        "df2['Prediction'] = df2['Close'].shift(-future_days)"
      ],
      "metadata": {
        "id": "iBSavaufQP7D"
      },
      "execution_count": 24,
      "outputs": []
    },
    {
      "cell_type": "code",
      "source": [
        "X = np.array(df2.drop(['Prediction'], 1))[:-future_days]\n",
        "print(X)"
      ],
      "metadata": {
        "colab": {
          "base_uri": "https://localhost:8080/"
        },
        "id": "bKcAdIBSQSfn",
        "outputId": "17319dd1-7fb6-4466-9e74-ded2d5924a6f"
      },
      "execution_count": 25,
      "outputs": [
        {
          "output_type": "stream",
          "name": "stdout",
          "text": [
            "[[ 93.639999]\n",
            " [ 93.32    ]\n",
            " [ 93.860001]\n",
            " ...\n",
            " [249.199997]\n",
            " [246.789993]\n",
            " [234.240005]]\n"
          ]
        },
        {
          "output_type": "stream",
          "name": "stderr",
          "text": [
            "<ipython-input-25-5c69b61eae2a>:1: FutureWarning: In a future version of pandas all arguments of DataFrame.drop except for the argument 'labels' will be keyword-only\n",
            "  X = np.array(df2.drop(['Prediction'], 1))[:-future_days]\n"
          ]
        }
      ]
    },
    {
      "cell_type": "code",
      "source": [
        "y = np.array(df2['Prediction'])[:-future_days]\n",
        "print(y)"
      ],
      "metadata": {
        "colab": {
          "base_uri": "https://localhost:8080/"
        },
        "id": "taoz89eDQUHj",
        "outputId": "676f0a3c-b268-4641-ed88-9e1e08fd1bb9"
      },
      "execution_count": 26,
      "outputs": [
        {
          "output_type": "stream",
          "name": "stdout",
          "text": [
            "[109.620003 107.68     105.370003 ... 246.270004 251.110001 255.289993]\n"
          ]
        }
      ]
    },
    {
      "cell_type": "code",
      "source": [
        "from sklearn.model_selection import train_test_split\n",
        "x_train, x_test, y_train, y_test = train_test_split(X, y, test_size = 0.2)"
      ],
      "metadata": {
        "id": "Njvw8MBsQUOf"
      },
      "execution_count": 27,
      "outputs": []
    },
    {
      "cell_type": "code",
      "source": [
        "# Implementing Linear and Decision Tree Regression Algorithms.\n",
        "tree = DecisionTreeRegressor().fit(x_train, y_train)\n",
        "lr = LinearRegression().fit(x_train, y_train)"
      ],
      "metadata": {
        "id": "GL4l9TI3QURf"
      },
      "execution_count": 28,
      "outputs": []
    },
    {
      "cell_type": "code",
      "source": [
        "x_future = df2.drop(['Prediction'], 1)[:-future_days]\n",
        "x_future = x_future.tail(future_days)\n",
        "x_future = np.array(x_future)\n",
        "x_future"
      ],
      "metadata": {
        "colab": {
          "base_uri": "https://localhost:8080/"
        },
        "id": "WlRf-f9HQgLV",
        "outputId": "2515630e-6d00-4482-ea11-8e33d45ad781"
      },
      "execution_count": 29,
      "outputs": [
        {
          "output_type": "stream",
          "name": "stderr",
          "text": [
            "<ipython-input-29-4ab4510f9901>:1: FutureWarning: In a future version of pandas all arguments of DataFrame.drop except for the argument 'labels' will be keyword-only\n",
            "  x_future = df2.drop(['Prediction'], 1)[:-future_days]\n"
          ]
        },
        {
          "output_type": "execute_result",
          "data": {
            "text/plain": [
              "array([[266.820007],\n",
              "       [254.080002],\n",
              "       [253.139999],\n",
              "       [252.559998],\n",
              "       [260.649994],\n",
              "       [259.619995],\n",
              "       [262.519989],\n",
              "       [265.899994],\n",
              "       [273.23999 ],\n",
              "       [271.869995],\n",
              "       [272.420013],\n",
              "       [274.579987],\n",
              "       [270.019989],\n",
              "       [268.75    ],\n",
              "       [272.5     ],\n",
              "       [270.410004],\n",
              "       [264.790009],\n",
              "       [252.990005],\n",
              "       [242.259995],\n",
              "       [244.490005],\n",
              "       [251.759995],\n",
              "       [244.970001],\n",
              "       [247.649994],\n",
              "       [253.740005],\n",
              "       [253.130005],\n",
              "       [258.859985],\n",
              "       [267.700012],\n",
              "       [264.890015],\n",
              "       [256.480011],\n",
              "       [260.26001 ],\n",
              "       [256.829987],\n",
              "       [259.579987],\n",
              "       [262.850006],\n",
              "       [266.209991],\n",
              "       [268.399994],\n",
              "       [267.660004],\n",
              "       [264.51001 ],\n",
              "       [253.669998],\n",
              "       [252.720001],\n",
              "       [254.080002],\n",
              "       [256.720001],\n",
              "       [254.25    ],\n",
              "       [259.529999],\n",
              "       [262.269989],\n",
              "       [264.839996],\n",
              "       [260.359985],\n",
              "       [258.829987],\n",
              "       [251.899994],\n",
              "       [268.73999 ],\n",
              "       [276.410004],\n",
              "       [280.73999 ],\n",
              "       [278.01001 ],\n",
              "       [274.820007],\n",
              "       [282.470001],\n",
              "       [283.649994],\n",
              "       [282.910004],\n",
              "       [280.320007],\n",
              "       [282.299988],\n",
              "       [289.160004],\n",
              "       [287.019989],\n",
              "       [291.910004],\n",
              "       [293.470001],\n",
              "       [292.709991],\n",
              "       [291.320007],\n",
              "       [290.170013],\n",
              "       [286.149994],\n",
              "       [277.75    ],\n",
              "       [276.440002],\n",
              "       [275.790009],\n",
              "       [278.850006],\n",
              "       [268.089996],\n",
              "       [265.230011],\n",
              "       [262.970001],\n",
              "       [261.470001],\n",
              "       [260.399994],\n",
              "       [256.059998],\n",
              "       [253.25    ],\n",
              "       [258.089996],\n",
              "       [258.519989],\n",
              "       [264.459991],\n",
              "       [266.649994],\n",
              "       [251.990005],\n",
              "       [252.220001],\n",
              "       [245.380005],\n",
              "       [244.740005],\n",
              "       [244.520004],\n",
              "       [242.449997],\n",
              "       [238.949997],\n",
              "       [240.979996],\n",
              "       [237.919998],\n",
              "       [237.449997],\n",
              "       [236.410004],\n",
              "       [241.070007],\n",
              "       [237.5     ],\n",
              "       [232.899994],\n",
              "       [240.740005],\n",
              "       [248.880005],\n",
              "       [249.199997],\n",
              "       [246.789993],\n",
              "       [234.240005]])"
            ]
          },
          "metadata": {},
          "execution_count": 29
        }
      ]
    },
    {
      "cell_type": "code",
      "source": [
        "tree_prediction = tree.predict(x_future)\n",
        "print(tree_prediction)"
      ],
      "metadata": {
        "colab": {
          "base_uri": "https://localhost:8080/"
        },
        "id": "_3zfJjPuQiga",
        "outputId": "037a8d0f-dc68-40c8-a9a2-ff0addc9cee0"
      },
      "execution_count": 30,
      "outputs": [
        {
          "output_type": "stream",
          "name": "stdout",
          "text": [
            "[336.070007 244.369995 225.75     234.240005 228.559998 245.029999\n",
            " 238.5      247.490005 236.149994 242.119995 247.25     237.5\n",
            " 231.320007 244.690002 247.25     232.130005 228.169998 220.100006\n",
            " 214.25     221.389999 227.869995 228.869995 224.509995 242.979996\n",
            " 247.110001 241.550003 241.970001 241.729996 241.679993 241.220001\n",
            " 242.050003 245.029999 247.580002 247.490005 241.759995 240.330002\n",
            " 255.139999 254.690002 255.020004 244.369995 245.119995 244.369995\n",
            " 300.179993 245.419998 252.509995 256.920013 241.550003 249.009995\n",
            " 244.690002 240.449997 241.800003 244.429993 238.190002 238.729996\n",
            " 287.929993 297.309998 259.529999 239.820007 294.589996 334.75\n",
            " 222.309998 224.929993 227.119995 228.850006 235.770004 238.509995\n",
            " 239.229996 261.630005 235.809998 231.929993 240.220001 336.720001\n",
            " 242.039993 240.610001 248.       248.160004 242.710007 333.130005\n",
            " 301.149994 264.600006 258.350006 256.769989 267.559998 266.730011\n",
            " 263.619995 221.389999 271.320007 272.170013 269.320007 262.149994\n",
            " 258.059998 252.669998 251.509995 254.770004 249.220001 250.160004\n",
            " 302.01001  308.230011 251.110001 255.289993]\n"
          ]
        }
      ]
    },
    {
      "cell_type": "code",
      "source": [
        "lr_prediction = lr.predict(x_future)\n",
        "print(lr_prediction)"
      ],
      "metadata": {
        "colab": {
          "base_uri": "https://localhost:8080/"
        },
        "id": "xjqyYCOzQjw9",
        "outputId": "b05f8522-1a0d-46cf-b2c5-f0ec6e82096c"
      },
      "execution_count": 31,
      "outputs": [
        {
          "output_type": "stream",
          "name": "stdout",
          "text": [
            "[268.81383046 258.00440016 257.20684184 256.71473211 263.57879912\n",
            " 262.70488247 265.16542178 268.03323294 274.26095225 273.09856138\n",
            " 273.56523163 275.39789091 271.52889866 270.45135924 273.63309768\n",
            " 271.85981219 267.09145108 257.07957739 247.97555465 249.86763693\n",
            " 256.0359587  250.27489605 252.54877252 257.71592508 257.1983623\n",
            " 262.06004166 269.56048266 267.17630253 260.04072039 263.24791189\n",
            " 260.33766229 262.67093714 265.44542918 268.2962541  270.1543919\n",
            " 269.52653733 266.85388213 257.65652669 256.85048883 258.00440016\n",
            " 260.24434317 258.14863727 262.62852414 264.95330588 267.13386323\n",
            " 263.33273704 262.03458945 256.15474275 270.44286612 276.95059369\n",
            " 280.62442913 278.30814052 275.60153914 282.09228047 283.09346156\n",
            " 282.46560699 280.26808885 281.94803063 287.76850439 285.9527796\n",
            " 290.10177925 291.4253799  290.78053909 289.60118828 288.62546025\n",
            " 285.21462052 278.0875315  276.9760459  276.42455051 279.02084653\n",
            " 269.89136988 267.46477676 265.54724057 264.2745452  263.36668322\n",
            " 259.68435466 257.30017368 261.40673404 261.77156744 266.81144283\n",
            " 268.66958062 256.23111381 256.42625704 250.62276952 250.07975282\n",
            " 249.89308999 248.13676443 245.16714188 246.88952211 244.29322524\n",
            " 243.8944465  243.01205032 246.96589316 243.93687223 240.03393465\n",
            " 246.68589849 253.59239206 253.86389362 251.81909299 241.17088519]\n"
          ]
        }
      ]
    },
    {
      "cell_type": "code",
      "source": [
        "predictions = tree_prediction \n",
        "valid = df2[X.shape[0]:]\n",
        "valid['Predictions'] = predictions"
      ],
      "metadata": {
        "colab": {
          "base_uri": "https://localhost:8080/"
        },
        "id": "wnut-ux9QlWE",
        "outputId": "799448ce-fc58-4a2d-8643-a643be773d59"
      },
      "execution_count": 32,
      "outputs": [
        {
          "output_type": "stream",
          "name": "stderr",
          "text": [
            "<ipython-input-32-3343a07a945e>:3: SettingWithCopyWarning: \n",
            "A value is trying to be set on a copy of a slice from a DataFrame.\n",
            "Try using .loc[row_indexer,col_indexer] = value instead\n",
            "\n",
            "See the caveats in the documentation: https://pandas.pydata.org/pandas-docs/stable/user_guide/indexing.html#returning-a-view-versus-a-copy\n",
            "  valid['Predictions'] = predictions\n"
          ]
        }
      ]
    },
    {
      "cell_type": "code",
      "source": [
        "plt.figure(figsize=(16,8))\n",
        "plt.title(\"Model\")\n",
        "plt.xlabel('Days')\n",
        "plt.ylabel('Close Price USD ($)')\n",
        "plt.plot(df2['Close'])\n",
        "plt.plot(valid[['Close', 'Predictions']])\n",
        "plt.legend([\"Original\", \"Valid\", 'Predicted'])\n",
        "plt.show()"
      ],
      "metadata": {
        "colab": {
          "base_uri": "https://localhost:8080/",
          "height": 513
        },
        "id": "aspXASoVQmuJ",
        "outputId": "450d501c-e07f-4763-e66b-8d2c4329cdc9"
      },
      "execution_count": 33,
      "outputs": [
        {
          "output_type": "display_data",
          "data": {
            "text/plain": [
              "<Figure size 1152x576 with 1 Axes>"
            ],
            "image/png": "[encoded data removed]"
          },
          "metadata": {
            "needs_background": "light"
          }
        }
      ]
    }
  ]
}